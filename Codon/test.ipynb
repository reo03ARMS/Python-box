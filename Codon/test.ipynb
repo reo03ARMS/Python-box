{
 "cells": [
  {
   "attachments": {},
   "cell_type": "markdown",
   "metadata": {},
   "source": [
    "# Codon\n",
    "- 高性能で簡単に扱えるPythonコンパイラ\n",
    "\n",
    "### install\n",
    "- /bin/zsh -c \"$(curl -fsSL https://exaloop.io/install.sh)\"\n",
    "- echo 'export PATH=\"$HOME/.codon/bin:$PATH\"' >> ~/.zshrc"
   ]
  },
  {
   "attachments": {},
   "cell_type": "markdown",
   "metadata": {},
   "source": [
    "## Pythonで実装"
   ]
  },
  {
   "cell_type": "code",
   "execution_count": 2,
   "metadata": {},
   "outputs": [
    {
     "name": "stdout",
     "output_type": "stream",
     "text": [
      "ackermann(3, 11) = 16381\n",
      "elapsed time: 34913 [ms]\n"
     ]
    }
   ],
   "source": [
    "import sys\n",
    "import time\n",
    "\n",
    "# 再帰回数の上限を開放しておきます.\n",
    "sys.setrecursionlimit(200000000)\n",
    "\n",
    "def ackermann(m: int, n: int) -> int:\n",
    "    if m == 0:\n",
    "        return n + 1\n",
    "    elif n == 0:\n",
    "        return ackermann(m - 1, 1)\n",
    "    else:\n",
    "        return ackermann(m - 1, ackermann(m, n - 1))\n",
    "\n",
    "m = 3\n",
    "n = 11\n",
    "\n",
    "t0 = time.time()\n",
    "result = ackermann(m, n)\n",
    "t1 = time.time()\n",
    "\n",
    "print(f\"ackermann({m}, {n}) = {result}\")\n",
    "print(f\"elapsed time: {int((t1 - t0) * 1000)} [ms]\")"
   ]
  },
  {
   "attachments": {},
   "cell_type": "markdown",
   "metadata": {},
   "source": [
    "## Codonで実装"
   ]
  },
  {
   "cell_type": "code",
   "execution_count": null,
   "metadata": {},
   "outputs": [],
   "source": [
    "import time\n",
    "\n",
    "def ackermann(m: int, n: int) -> int:\n",
    "    if m == 0:\n",
    "        return n + 1\n",
    "    elif n == 0:\n",
    "        return ackermann(m - 1, 1)\n",
    "    else:\n",
    "        return ackermann(m - 1, ackermann(m, n - 1))\n",
    "\n",
    "m = 3\n",
    "n = 11\n",
    "\n",
    "t0 = time.time()\n",
    "result = ackermann(m, n)\n",
    "t1 = time.time()\n",
    "\n",
    "print(f\"ackermann({m}, {n}) = {result}\")\n",
    "print(f\"elapsed time: {int((t1 - t0) * 1000)} [ms]\")"
   ]
  }
 ],
 "metadata": {
  "kernelspec": {
   "display_name": ".venv",
   "language": "python",
   "name": "python3"
  },
  "language_info": {
   "codemirror_mode": {
    "name": "ipython",
    "version": 3
   },
   "file_extension": ".py",
   "mimetype": "text/x-python",
   "name": "python",
   "nbconvert_exporter": "python",
   "pygments_lexer": "ipython3",
   "version": "3.10.8"
  },
  "orig_nbformat": 4
 },
 "nbformat": 4,
 "nbformat_minor": 2
}
